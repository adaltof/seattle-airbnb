{
 "cells": [
  {
   "cell_type": "markdown",
   "id": "60d29c97",
   "metadata": {},
   "source": [
    "# Seattle AirBnb Project\n",
    "#### by Adalto Correia\n",
    "\n",
    "This notebook goes over the analysis performed on the dataset for Seattle AirBnb rentals and listings described here: [Seattle AirBnb Open Data](https://www.kaggle.com/airbnb/seattle/data). The work was done as part of the initial project for [Udacity's Data Science NanoDegree](https://www.udacity.com/course/data-scientist-nanodegree--nd025).\n",
    "\n",
    "### Questions\n",
    "During this analysis, we try to answer some questions about the AirBnb market in Seattle:\n",
    "1. What percentage of listings are held by the top owners (people with multiple listings)?\n",
    "2. How such listings compare to listings of people that have fewer listings in terms of availability throughout the year and average rental cost?\n",
    "3. What are the peak periods for rent?\n",
    "\n",
    "#### CRISP-DM - Business Understanding\n",
    "As an initial hypothesis, we believe that only a few % points are owned by people with more than 10 listings, as the overwhelming majority would be from people that lease their vacation house, or even a separate bedroom on their home on AirBnb. In addition, we would expect that listings from hosts with multiple places for rent would be higher in value, as they would have a more professional take on renting via Airbnb, and be able to place their locations to maximize profits. This would also mean that these listings stay available for most of the year.\n",
    "\n",
    "Finally, due to the high-tech companies in the area, and snow-filled activities all around, we believe that even in Winter there is no significant change on rates throughout the year."
   ]
  },
  {
   "cell_type": "markdown",
   "id": "9281812d",
   "metadata": {},
   "source": [
    "### Preparation\n",
    "##### Data download\n",
    "Please download the data from the link below and publish in a data/ folder to be able to leverage this notebook. [Seattle AirBnb Open Data](https://www.kaggle.com/airbnb/seattle/data)\n",
    "\n",
    "##### Package Import\n",
    "We start by importing the required packages for this notebook."
   ]
  },
  {
   "cell_type": "code",
   "execution_count": 1,
   "id": "b3c5ad42",
   "metadata": {},
   "outputs": [],
   "source": [
    "import pandas as pd\n",
    "import numpy as np\n",
    "import matplotlib as plt\n",
    "%matplotlib inline\n"
   ]
  },
  {
   "cell_type": "markdown",
   "id": "ee4c01b3",
   "metadata": {},
   "source": [
    "##### CRISP-DM - Data Understanding\n",
    "\n",
    "We start by importing the required packages for this notebook.\n",
    "Let's get some data in here and take a peak on what we have to work with."
   ]
  },
  {
   "cell_type": "code",
   "execution_count": 2,
   "id": "856b0f80",
   "metadata": {
    "scrolled": true
   },
   "outputs": [
    {
     "data": {
      "text/html": [
       "<div>\n",
       "<style scoped>\n",
       "    .dataframe tbody tr th:only-of-type {\n",
       "        vertical-align: middle;\n",
       "    }\n",
       "\n",
       "    .dataframe tbody tr th {\n",
       "        vertical-align: top;\n",
       "    }\n",
       "\n",
       "    .dataframe thead th {\n",
       "        text-align: right;\n",
       "    }\n",
       "</style>\n",
       "<table border=\"1\" class=\"dataframe\">\n",
       "  <thead>\n",
       "    <tr style=\"text-align: right;\">\n",
       "      <th></th>\n",
       "      <th>id</th>\n",
       "      <th>listing_url</th>\n",
       "      <th>scrape_id</th>\n",
       "      <th>last_scraped</th>\n",
       "      <th>name</th>\n",
       "      <th>summary</th>\n",
       "      <th>space</th>\n",
       "      <th>description</th>\n",
       "      <th>experiences_offered</th>\n",
       "      <th>neighborhood_overview</th>\n",
       "      <th>...</th>\n",
       "      <th>review_scores_value</th>\n",
       "      <th>requires_license</th>\n",
       "      <th>license</th>\n",
       "      <th>jurisdiction_names</th>\n",
       "      <th>instant_bookable</th>\n",
       "      <th>cancellation_policy</th>\n",
       "      <th>require_guest_profile_picture</th>\n",
       "      <th>require_guest_phone_verification</th>\n",
       "      <th>calculated_host_listings_count</th>\n",
       "      <th>reviews_per_month</th>\n",
       "    </tr>\n",
       "  </thead>\n",
       "  <tbody>\n",
       "    <tr>\n",
       "      <th>0</th>\n",
       "      <td>241032</td>\n",
       "      <td>https://www.airbnb.com/rooms/241032</td>\n",
       "      <td>20160104002432</td>\n",
       "      <td>2016-01-04</td>\n",
       "      <td>Stylish Queen Anne Apartment</td>\n",
       "      <td>NaN</td>\n",
       "      <td>Make your self at home in this charming one-be...</td>\n",
       "      <td>Make your self at home in this charming one-be...</td>\n",
       "      <td>none</td>\n",
       "      <td>NaN</td>\n",
       "      <td>...</td>\n",
       "      <td>10.0</td>\n",
       "      <td>f</td>\n",
       "      <td>NaN</td>\n",
       "      <td>WASHINGTON</td>\n",
       "      <td>f</td>\n",
       "      <td>moderate</td>\n",
       "      <td>f</td>\n",
       "      <td>f</td>\n",
       "      <td>2</td>\n",
       "      <td>4.07</td>\n",
       "    </tr>\n",
       "    <tr>\n",
       "      <th>1</th>\n",
       "      <td>953595</td>\n",
       "      <td>https://www.airbnb.com/rooms/953595</td>\n",
       "      <td>20160104002432</td>\n",
       "      <td>2016-01-04</td>\n",
       "      <td>Bright &amp; Airy Queen Anne Apartment</td>\n",
       "      <td>Chemically sensitive? We've removed the irrita...</td>\n",
       "      <td>Beautiful, hypoallergenic apartment in an extr...</td>\n",
       "      <td>Chemically sensitive? We've removed the irrita...</td>\n",
       "      <td>none</td>\n",
       "      <td>Queen Anne is a wonderful, truly functional vi...</td>\n",
       "      <td>...</td>\n",
       "      <td>10.0</td>\n",
       "      <td>f</td>\n",
       "      <td>NaN</td>\n",
       "      <td>WASHINGTON</td>\n",
       "      <td>f</td>\n",
       "      <td>strict</td>\n",
       "      <td>t</td>\n",
       "      <td>t</td>\n",
       "      <td>6</td>\n",
       "      <td>1.48</td>\n",
       "    </tr>\n",
       "    <tr>\n",
       "      <th>2</th>\n",
       "      <td>3308979</td>\n",
       "      <td>https://www.airbnb.com/rooms/3308979</td>\n",
       "      <td>20160104002432</td>\n",
       "      <td>2016-01-04</td>\n",
       "      <td>New Modern House-Amazing water view</td>\n",
       "      <td>New modern house built in 2013.  Spectacular s...</td>\n",
       "      <td>Our house is modern, light and fresh with a wa...</td>\n",
       "      <td>New modern house built in 2013.  Spectacular s...</td>\n",
       "      <td>none</td>\n",
       "      <td>Upper Queen Anne is a charming neighborhood fu...</td>\n",
       "      <td>...</td>\n",
       "      <td>10.0</td>\n",
       "      <td>f</td>\n",
       "      <td>NaN</td>\n",
       "      <td>WASHINGTON</td>\n",
       "      <td>f</td>\n",
       "      <td>strict</td>\n",
       "      <td>f</td>\n",
       "      <td>f</td>\n",
       "      <td>2</td>\n",
       "      <td>1.15</td>\n",
       "    </tr>\n",
       "    <tr>\n",
       "      <th>3</th>\n",
       "      <td>7421966</td>\n",
       "      <td>https://www.airbnb.com/rooms/7421966</td>\n",
       "      <td>20160104002432</td>\n",
       "      <td>2016-01-04</td>\n",
       "      <td>Queen Anne Chateau</td>\n",
       "      <td>A charming apartment that sits atop Queen Anne...</td>\n",
       "      <td>NaN</td>\n",
       "      <td>A charming apartment that sits atop Queen Anne...</td>\n",
       "      <td>none</td>\n",
       "      <td>NaN</td>\n",
       "      <td>...</td>\n",
       "      <td>NaN</td>\n",
       "      <td>f</td>\n",
       "      <td>NaN</td>\n",
       "      <td>WASHINGTON</td>\n",
       "      <td>f</td>\n",
       "      <td>flexible</td>\n",
       "      <td>f</td>\n",
       "      <td>f</td>\n",
       "      <td>1</td>\n",
       "      <td>NaN</td>\n",
       "    </tr>\n",
       "    <tr>\n",
       "      <th>4</th>\n",
       "      <td>278830</td>\n",
       "      <td>https://www.airbnb.com/rooms/278830</td>\n",
       "      <td>20160104002432</td>\n",
       "      <td>2016-01-04</td>\n",
       "      <td>Charming craftsman 3 bdm house</td>\n",
       "      <td>Cozy family craftman house in beautiful neighb...</td>\n",
       "      <td>Cozy family craftman house in beautiful neighb...</td>\n",
       "      <td>Cozy family craftman house in beautiful neighb...</td>\n",
       "      <td>none</td>\n",
       "      <td>We are in the beautiful neighborhood of Queen ...</td>\n",
       "      <td>...</td>\n",
       "      <td>9.0</td>\n",
       "      <td>f</td>\n",
       "      <td>NaN</td>\n",
       "      <td>WASHINGTON</td>\n",
       "      <td>f</td>\n",
       "      <td>strict</td>\n",
       "      <td>f</td>\n",
       "      <td>f</td>\n",
       "      <td>1</td>\n",
       "      <td>0.89</td>\n",
       "    </tr>\n",
       "  </tbody>\n",
       "</table>\n",
       "<p>5 rows × 92 columns</p>\n",
       "</div>"
      ],
      "text/plain": [
       "        id                           listing_url       scrape_id last_scraped  \\\n",
       "0   241032   https://www.airbnb.com/rooms/241032  20160104002432   2016-01-04   \n",
       "1   953595   https://www.airbnb.com/rooms/953595  20160104002432   2016-01-04   \n",
       "2  3308979  https://www.airbnb.com/rooms/3308979  20160104002432   2016-01-04   \n",
       "3  7421966  https://www.airbnb.com/rooms/7421966  20160104002432   2016-01-04   \n",
       "4   278830   https://www.airbnb.com/rooms/278830  20160104002432   2016-01-04   \n",
       "\n",
       "                                  name  \\\n",
       "0         Stylish Queen Anne Apartment   \n",
       "1   Bright & Airy Queen Anne Apartment   \n",
       "2  New Modern House-Amazing water view   \n",
       "3                   Queen Anne Chateau   \n",
       "4       Charming craftsman 3 bdm house   \n",
       "\n",
       "                                             summary  \\\n",
       "0                                                NaN   \n",
       "1  Chemically sensitive? We've removed the irrita...   \n",
       "2  New modern house built in 2013.  Spectacular s...   \n",
       "3  A charming apartment that sits atop Queen Anne...   \n",
       "4  Cozy family craftman house in beautiful neighb...   \n",
       "\n",
       "                                               space  \\\n",
       "0  Make your self at home in this charming one-be...   \n",
       "1  Beautiful, hypoallergenic apartment in an extr...   \n",
       "2  Our house is modern, light and fresh with a wa...   \n",
       "3                                                NaN   \n",
       "4  Cozy family craftman house in beautiful neighb...   \n",
       "\n",
       "                                         description experiences_offered  \\\n",
       "0  Make your self at home in this charming one-be...                none   \n",
       "1  Chemically sensitive? We've removed the irrita...                none   \n",
       "2  New modern house built in 2013.  Spectacular s...                none   \n",
       "3  A charming apartment that sits atop Queen Anne...                none   \n",
       "4  Cozy family craftman house in beautiful neighb...                none   \n",
       "\n",
       "                               neighborhood_overview  ... review_scores_value  \\\n",
       "0                                                NaN  ...                10.0   \n",
       "1  Queen Anne is a wonderful, truly functional vi...  ...                10.0   \n",
       "2  Upper Queen Anne is a charming neighborhood fu...  ...                10.0   \n",
       "3                                                NaN  ...                 NaN   \n",
       "4  We are in the beautiful neighborhood of Queen ...  ...                 9.0   \n",
       "\n",
       "  requires_license license jurisdiction_names instant_bookable  \\\n",
       "0                f     NaN         WASHINGTON                f   \n",
       "1                f     NaN         WASHINGTON                f   \n",
       "2                f     NaN         WASHINGTON                f   \n",
       "3                f     NaN         WASHINGTON                f   \n",
       "4                f     NaN         WASHINGTON                f   \n",
       "\n",
       "  cancellation_policy  require_guest_profile_picture  \\\n",
       "0            moderate                              f   \n",
       "1              strict                              t   \n",
       "2              strict                              f   \n",
       "3            flexible                              f   \n",
       "4              strict                              f   \n",
       "\n",
       "  require_guest_phone_verification calculated_host_listings_count  \\\n",
       "0                                f                              2   \n",
       "1                                t                              6   \n",
       "2                                f                              2   \n",
       "3                                f                              1   \n",
       "4                                f                              1   \n",
       "\n",
       "  reviews_per_month  \n",
       "0              4.07  \n",
       "1              1.48  \n",
       "2              1.15  \n",
       "3               NaN  \n",
       "4              0.89  \n",
       "\n",
       "[5 rows x 92 columns]"
      ]
     },
     "execution_count": 2,
     "metadata": {},
     "output_type": "execute_result"
    }
   ],
   "source": [
    "# Listings\n",
    "listings_df = pd.read_csv('./data/listings.csv')\n",
    "listings_df.head()"
   ]
  },
  {
   "cell_type": "code",
   "execution_count": 3,
   "id": "28550eda",
   "metadata": {
    "scrolled": false
   },
   "outputs": [
    {
     "data": {
      "text/html": [
       "<div>\n",
       "<style scoped>\n",
       "    .dataframe tbody tr th:only-of-type {\n",
       "        vertical-align: middle;\n",
       "    }\n",
       "\n",
       "    .dataframe tbody tr th {\n",
       "        vertical-align: top;\n",
       "    }\n",
       "\n",
       "    .dataframe thead th {\n",
       "        text-align: right;\n",
       "    }\n",
       "</style>\n",
       "<table border=\"1\" class=\"dataframe\">\n",
       "  <thead>\n",
       "    <tr style=\"text-align: right;\">\n",
       "      <th></th>\n",
       "      <th>listing_id</th>\n",
       "      <th>date</th>\n",
       "      <th>available</th>\n",
       "      <th>price</th>\n",
       "    </tr>\n",
       "  </thead>\n",
       "  <tbody>\n",
       "    <tr>\n",
       "      <th>0</th>\n",
       "      <td>241032</td>\n",
       "      <td>2016-01-04</td>\n",
       "      <td>t</td>\n",
       "      <td>$85.00</td>\n",
       "    </tr>\n",
       "    <tr>\n",
       "      <th>1</th>\n",
       "      <td>241032</td>\n",
       "      <td>2016-01-05</td>\n",
       "      <td>t</td>\n",
       "      <td>$85.00</td>\n",
       "    </tr>\n",
       "    <tr>\n",
       "      <th>2</th>\n",
       "      <td>241032</td>\n",
       "      <td>2016-01-06</td>\n",
       "      <td>f</td>\n",
       "      <td>NaN</td>\n",
       "    </tr>\n",
       "    <tr>\n",
       "      <th>3</th>\n",
       "      <td>241032</td>\n",
       "      <td>2016-01-07</td>\n",
       "      <td>f</td>\n",
       "      <td>NaN</td>\n",
       "    </tr>\n",
       "    <tr>\n",
       "      <th>4</th>\n",
       "      <td>241032</td>\n",
       "      <td>2016-01-08</td>\n",
       "      <td>f</td>\n",
       "      <td>NaN</td>\n",
       "    </tr>\n",
       "  </tbody>\n",
       "</table>\n",
       "</div>"
      ],
      "text/plain": [
       "   listing_id        date available   price\n",
       "0      241032  2016-01-04         t  $85.00\n",
       "1      241032  2016-01-05         t  $85.00\n",
       "2      241032  2016-01-06         f     NaN\n",
       "3      241032  2016-01-07         f     NaN\n",
       "4      241032  2016-01-08         f     NaN"
      ]
     },
     "execution_count": 3,
     "metadata": {},
     "output_type": "execute_result"
    }
   ],
   "source": [
    "# Calendar\n",
    "calendar_df = pd.read_csv('./data/calendar.csv')\n",
    "calendar_df.head()\n"
   ]
  },
  {
   "cell_type": "markdown",
   "id": "14f64696",
   "metadata": {},
   "source": [
    "Note: that price value with currency may become a problem later. Let's change all values to numeric value."
   ]
  },
  {
   "cell_type": "code",
   "execution_count": 7,
   "id": "3161fb6e",
   "metadata": {},
   "outputs": [
    {
     "data": {
      "text/html": [
       "<div>\n",
       "<style scoped>\n",
       "    .dataframe tbody tr th:only-of-type {\n",
       "        vertical-align: middle;\n",
       "    }\n",
       "\n",
       "    .dataframe tbody tr th {\n",
       "        vertical-align: top;\n",
       "    }\n",
       "\n",
       "    .dataframe thead th {\n",
       "        text-align: right;\n",
       "    }\n",
       "</style>\n",
       "<table border=\"1\" class=\"dataframe\">\n",
       "  <thead>\n",
       "    <tr style=\"text-align: right;\">\n",
       "      <th></th>\n",
       "      <th>listing_id</th>\n",
       "      <th>id</th>\n",
       "      <th>date</th>\n",
       "      <th>reviewer_id</th>\n",
       "      <th>reviewer_name</th>\n",
       "      <th>comments</th>\n",
       "    </tr>\n",
       "  </thead>\n",
       "  <tbody>\n",
       "    <tr>\n",
       "      <th>0</th>\n",
       "      <td>7202016</td>\n",
       "      <td>38917982</td>\n",
       "      <td>2015-07-19</td>\n",
       "      <td>28943674</td>\n",
       "      <td>Bianca</td>\n",
       "      <td>Cute and cozy place. Perfect location to every...</td>\n",
       "    </tr>\n",
       "    <tr>\n",
       "      <th>1</th>\n",
       "      <td>7202016</td>\n",
       "      <td>39087409</td>\n",
       "      <td>2015-07-20</td>\n",
       "      <td>32440555</td>\n",
       "      <td>Frank</td>\n",
       "      <td>Kelly has a great room in a very central locat...</td>\n",
       "    </tr>\n",
       "    <tr>\n",
       "      <th>2</th>\n",
       "      <td>7202016</td>\n",
       "      <td>39820030</td>\n",
       "      <td>2015-07-26</td>\n",
       "      <td>37722850</td>\n",
       "      <td>Ian</td>\n",
       "      <td>Very spacious apartment, and in a great neighb...</td>\n",
       "    </tr>\n",
       "    <tr>\n",
       "      <th>3</th>\n",
       "      <td>7202016</td>\n",
       "      <td>40813543</td>\n",
       "      <td>2015-08-02</td>\n",
       "      <td>33671805</td>\n",
       "      <td>George</td>\n",
       "      <td>Close to Seattle Center and all it has to offe...</td>\n",
       "    </tr>\n",
       "    <tr>\n",
       "      <th>4</th>\n",
       "      <td>7202016</td>\n",
       "      <td>41986501</td>\n",
       "      <td>2015-08-10</td>\n",
       "      <td>34959538</td>\n",
       "      <td>Ming</td>\n",
       "      <td>Kelly was a great host and very accommodating ...</td>\n",
       "    </tr>\n",
       "  </tbody>\n",
       "</table>\n",
       "</div>"
      ],
      "text/plain": [
       "   listing_id        id        date  reviewer_id reviewer_name  \\\n",
       "0     7202016  38917982  2015-07-19     28943674        Bianca   \n",
       "1     7202016  39087409  2015-07-20     32440555         Frank   \n",
       "2     7202016  39820030  2015-07-26     37722850           Ian   \n",
       "3     7202016  40813543  2015-08-02     33671805        George   \n",
       "4     7202016  41986501  2015-08-10     34959538          Ming   \n",
       "\n",
       "                                            comments  \n",
       "0  Cute and cozy place. Perfect location to every...  \n",
       "1  Kelly has a great room in a very central locat...  \n",
       "2  Very spacious apartment, and in a great neighb...  \n",
       "3  Close to Seattle Center and all it has to offe...  \n",
       "4  Kelly was a great host and very accommodating ...  "
      ]
     },
     "execution_count": 7,
     "metadata": {},
     "output_type": "execute_result"
    }
   ],
   "source": [
    "# Reviews\n",
    "reviews_df = pd.read_csv('./data/reviews.csv')\n",
    "reviews_df.head()\n"
   ]
  },
  {
   "cell_type": "code",
   "execution_count": 8,
   "id": "4fb2ea62",
   "metadata": {
    "scrolled": false
   },
   "outputs": [
    {
     "name": "stdout",
     "output_type": "stream",
     "text": [
      "Listings shape: (3818, 92)\n",
      "Calendar shape: (1393570, 4)\n",
      "Reviews shape: (84849, 6)\n"
     ]
    }
   ],
   "source": [
    "# Sizes\n",
    "print(f'Listings shape: {listings_df.shape}')\n",
    "print(f'Calendar shape: {calendar_df.shape}')\n",
    "print(f'Reviews shape: {reviews_df.shape}')"
   ]
  },
  {
   "cell_type": "markdown",
   "id": "9a6096af",
   "metadata": {},
   "source": [
    "#### CRISP-DM - Prepare Data\n",
    "\n",
    "Now it is time to fix the few items mapped before, relating to prices with $ on the front and NaNs."
   ]
  },
  {
   "cell_type": "code",
   "execution_count": 4,
   "id": "d6a0e19a",
   "metadata": {},
   "outputs": [],
   "source": [
    "# In order to prepare price data for analysis, we created the following function to\n",
    "# convert the string values to float\n",
    "def currency_to_float(dataframe, column):\n",
    "    \"\"\"\n",
    "    Function to convert currency columns to float\n",
    "    \"\"\"\n",
    "    dataframe[column] = dataframe[column].replace('[\\$,]', '', regex=True).astype(float)\n",
    "    return dataframe"
   ]
  },
  {
   "cell_type": "code",
   "execution_count": 5,
   "id": "e2866ce0",
   "metadata": {
    "scrolled": true
   },
   "outputs": [
    {
     "data": {
      "text/plain": [
       "0    85.0\n",
       "1    85.0\n",
       "2     NaN\n",
       "3     NaN\n",
       "4     NaN\n",
       "Name: price, dtype: float64"
      ]
     },
     "execution_count": 5,
     "metadata": {},
     "output_type": "execute_result"
    }
   ],
   "source": [
    "# Correct price column from currency to numeric format\n",
    "calendar_df = currency_to_float(calendar_df, 'price')\n",
    "calendar_df.price.head()"
   ]
  },
  {
   "cell_type": "markdown",
   "id": "6cfb293b",
   "metadata": {},
   "source": [
    "As we will work with the price and averages, we need to drop the NaNs on the calendar_df."
   ]
  },
  {
   "cell_type": "code",
   "execution_count": 7,
   "id": "88ebc7e4",
   "metadata": {},
   "outputs": [
    {
     "data": {
      "text/plain": [
       "0     85.0\n",
       "1    150.0\n",
       "2    975.0\n",
       "3    100.0\n",
       "4    450.0\n",
       "Name: price, dtype: float64"
      ]
     },
     "execution_count": 7,
     "metadata": {},
     "output_type": "execute_result"
    }
   ],
   "source": [
    "# Same cleanup for Listings\n",
    "listings_df = currency_to_float(listings_df, 'price')\n",
    "listings_df.price.head()"
   ]
  },
  {
   "cell_type": "code",
   "execution_count": 8,
   "id": "5ae5c9d4",
   "metadata": {},
   "outputs": [
    {
     "name": "stdout",
     "output_type": "stream",
     "text": [
      "47\n"
     ]
    },
    {
     "data": {
      "text/plain": [
       "id                                  0\n",
       "price                               0\n",
       "amenities                           0\n",
       "bed_type                            0\n",
       "accommodates                        0\n",
       "room_type                           0\n",
       "is_location_exact                   0\n",
       "guests_included                     0\n",
       "longitude                           0\n",
       "country                             0\n",
       "country_code                        0\n",
       "smart_location                      0\n",
       "market                              0\n",
       "state                               0\n",
       "city                                0\n",
       "calculated_host_listings_count      0\n",
       "neighbourhood_group_cleansed        0\n",
       "extra_people                        0\n",
       "maximum_nights                      0\n",
       "require_guest_phone_verification    0\n",
       "require_guest_profile_picture       0\n",
       "cancellation_policy                 0\n",
       "instant_bookable                    0\n",
       "jurisdiction_names                  0\n",
       "requires_license                    0\n",
       "minimum_nights                      0\n",
       "number_of_reviews                   0\n",
       "availability_365                    0\n",
       "availability_90                     0\n",
       "availability_60                     0\n",
       "availability_30                     0\n",
       "has_availability                    0\n",
       "calendar_updated                    0\n",
       "calendar_last_scraped               0\n",
       "neighbourhood_cleansed              0\n",
       "latitude                            0\n",
       "street                              0\n",
       "listing_url                         0\n",
       "scrape_id                           0\n",
       "last_scraped                        0\n",
       "name                                0\n",
       "description                         0\n",
       "experiences_offered                 0\n",
       "picture_url                         0\n",
       "host_id                             0\n",
       "host_url                            0\n",
       "host_verifications                  0\n",
       "dtype: int64"
      ]
     },
     "execution_count": 8,
     "metadata": {},
     "output_type": "execute_result"
    }
   ],
   "source": [
    "# Let's check how many nulls on Listings\n",
    "\n",
    "sum_nulls = listings_df.isnull().sum().sort_values(ascending=True)\n",
    "print(sum_nulls[sum_nulls == 0].shape[0])\n",
    "sum_nulls[sum_nulls == 0]"
   ]
  },
  {
   "cell_type": "markdown",
   "id": "dd63c386",
   "metadata": {},
   "source": [
    "We find that 47 columns have no nulls. Some of them as price, host_id, calculated_host_listings_count, id will allow us to answer some of our original questions. \n",
    "Just to make sure, let's confirm for the next section that we don't have strange things as price or calculated_host_listings_count == 0 which would not make sense.\n",
    "\n",
    "We also noticed before that the calendar_df dataframe had some NaN values for price, on the dates where the listing was not available, let's drop these as they will not help on our analysis and averages."
   ]
  },
  {
   "cell_type": "code",
   "execution_count": 9,
   "id": "e46f7545",
   "metadata": {},
   "outputs": [],
   "source": [
    "calendar_df = calendar_df.dropna(subset=['price'])"
   ]
  },
  {
   "cell_type": "code",
   "execution_count": 11,
   "id": "37fa0b3d",
   "metadata": {
    "scrolled": true
   },
   "outputs": [
    {
     "name": "stdout",
     "output_type": "stream",
     "text": [
      "Priced as zero: 0\n",
      "Listing count as zero: 0\n"
     ]
    }
   ],
   "source": [
    "# Making sure that there are no 0 \n",
    "print(f'Priced as zero: {listings_df[listings_df.price == 0].shape[0]}')\n",
    "print(f'Listing count as zero: {listings_df[listings_df.calculated_host_listings_count == 0].shape[0]}')"
   ]
  },
  {
   "cell_type": "markdown",
   "id": "32ed4e80",
   "metadata": {},
   "source": [
    "#### CRISP-DM - Data Modeling \n",
    "\n",
    "For some of our questions we will need to group the host ids in categories based on the number of listings they have on Airbnb. "
   ]
  },
  {
   "cell_type": "code",
   "execution_count": 20,
   "id": "9360b59c",
   "metadata": {},
   "outputs": [],
   "source": [
    "# Bucket bins by listing count per host \n",
    "bins = np.linspace(listings_df.calculated_host_listings_count.min(), listings_df.calculated_host_listings_count.max(), 10)\n",
    "listing_count = listings_df.groupby(pd.cut(listings_df.calculated_host_listings_count, bins))\n"
   ]
  },
  {
   "cell_type": "markdown",
   "id": "4c14c1ff",
   "metadata": {},
   "source": [
    "We will also need a function to work on cleaning data after the groupings"
   ]
  },
  {
   "cell_type": "code",
   "execution_count": 24,
   "id": "dd83b6d1",
   "metadata": {},
   "outputs": [],
   "source": [
    "def clean_series_for_chart(series):\n",
    "    \"\"\"Function to remove entries with 0 in order to present them correctly in bar charts\"\"\"\n",
    "    \n",
    "    return series[series != 0].dropna()\n",
    "    "
   ]
  },
  {
   "cell_type": "markdown",
   "id": "30103373",
   "metadata": {},
   "source": [
    "Great! We can now move on to answering some of our questions.\n",
    "\n",
    "#### CRISP-DM - Evaluating Results\n",
    "\n",
    "##### Question 1"
   ]
  },
  {
   "cell_type": "code",
   "execution_count": 12,
   "id": "007d2998",
   "metadata": {},
   "outputs": [
    {
     "data": {
      "image/png": "[encoded data removed]",
      "text/plain": [
       "<Figure size 432x288 with 1 Axes>"
      ]
     },
     "metadata": {},
     "output_type": "display_data"
    }
   ],
   "source": [
    "# Chart with distribution of listings according to category created for hosts\n",
    "listings_pie_chart = group_by_listing_count.id.count().plot(kind='pie', explode=[0,0,.5,.5,.5,.5,.5,.5,.5], pctdistance=.8, autopct='%.1f%%', radius=1.2, title='Houses from owners with more than 10 listings')\n"
   ]
  },
  {
   "cell_type": "markdown",
   "id": "5289252b",
   "metadata": {},
   "source": [
    "From the chart, it seems that around 86% of all listings are from hosts with 9 or less listings in Seattle.  \n",
    "\n",
    "##### Question 2"
   ]
  },
  {
   "cell_type": "code",
   "execution_count": 13,
   "id": "075a2102",
   "metadata": {
    "scrolled": true
   },
   "outputs": [
    {
     "data": {
      "text/plain": [
       "<AxesSubplot:title={'center':'Analysis of average $ according to number of listing per host'}, xlabel='calculated_host_listings_count'>"
      ]
     },
     "execution_count": 13,
     "metadata": {},
     "output_type": "execute_result"
    },
    {
     "data": {
      "image/png": "[encoded data removed]",
      "text/plain": [
       "<Figure size 432x288 with 1 Axes>"
      ]
     },
     "metadata": {
      "needs_background": "light"
     },
     "output_type": "display_data"
    }
   ],
   "source": [
    "# Plot average rent prices grouped by number of listings per host\n",
    "group_by_listing_count.mean().price.sort_values().plot(kind='bar', title='Analysis of average $ according to number of listing per host')"
   ]
  },
  {
   "cell_type": "markdown",
   "id": "23450343",
   "metadata": {},
   "source": [
    "The null values are impacting on our chart, let's see if we can do better"
   ]
  },
  {
   "cell_type": "code",
   "execution_count": 25,
   "id": "28037fa1",
   "metadata": {
    "scrolled": true
   },
   "outputs": [
    {
     "data": {
      "image/png": "[encoded data removed]",
      "text/plain": [
       "<Figure size 432x288 with 1 Axes>"
      ]
     },
     "metadata": {
      "needs_background": "light"
     },
     "output_type": "display_data"
    }
   ],
   "source": [
    "# Plot average rent prices grouped by number of listings per host - No 0\n",
    "grouped_mean_values = group_by_listing_count.mean().price.sort_values()\n",
    "\n",
    "# Clean data before plot\n",
    "grouped_mean_values = clean_series_for_chart(grouped_mean_values)\n",
    "\n",
    "_ = grouped_mean_values.plot(kind='bar', ylabel = 'Average Daily Rate', xlabel = 'Hosts by Number of Listings', title='Analysis of average $ according to number of listing per host')\n"
   ]
  },
  {
   "cell_type": "markdown",
   "id": "083a6e90",
   "metadata": {},
   "source": [
    "From this, there's not a direct correlation between the number of listings a host has and the average price of the properties. Although the top average price was for the bin of listings from hosts that have between 29-33, the average value for the bin of hosts with even more listings(33-37) is lower."
   ]
  },
  {
   "cell_type": "code",
   "execution_count": 26,
   "id": "b8da98f5",
   "metadata": {},
   "outputs": [
    {
     "data": {
      "image/png": "[encoded data removed]",
      "text/plain": [
       "<Figure size 432x288 with 1 Axes>"
      ]
     },
     "metadata": {
      "needs_background": "light"
     },
     "output_type": "display_data"
    }
   ],
   "source": [
    "# Plot average rent prices grouped by number of listings per host\n",
    "grouped_availability = group_by_listing_count.mean().availability_365.sort_values()\n",
    "\n",
    "# Clean data before plot\n",
    "grouped_availability = clean_series_for_chart(grouped_availability)\n",
    "\n",
    "# Now we can  plot\n",
    "_ = grouped_availability.plot(kind='bar', ylabel = 'Average Available Days per Year', xlabel = 'Hosts by Number of Listings', title='Analysis of availability according to number of listing per host')\n"
   ]
  },
  {
   "cell_type": "markdown",
   "id": "988bcde9",
   "metadata": {},
   "source": [
    "This looks similar to our initial hypothesis, where indeed listings for rent owned by hosts with multiple properties are kept as available in the Airbnb platform for longer.\n",
    "\n",
    "##### Question 3"
   ]
  },
  {
   "cell_type": "code",
   "execution_count": 27,
   "id": "7a825739",
   "metadata": {},
   "outputs": [
    {
     "data": {
      "image/png": "[encoded data removed]",
      "text/plain": [
       "<Figure size 432x288 with 1 Axes>"
      ]
     },
     "metadata": {
      "needs_background": "light"
     },
     "output_type": "display_data"
    }
   ],
   "source": [
    "# Let's group the calendar_df information by month to understand availability of listings\n",
    "grouped_by_month = calendar_df.copy()\n",
    "grouped_by_month.date = pd.to_datetime(grouped_by_month.date)\n",
    "grouped_by_month.date = grouped_by_month.date.dt.month\n",
    "\n",
    "# Now let's get the mean price in each month and plot\n",
    "grouped_df = grouped_by_month.price.groupby(grouped_by_month.date).mean()\n",
    "_ = grouped_df.plot(kind='area', xlabel = 'Month', ylabel='Average Daily Rate($)', title='Average Rent Price per Month')"
   ]
  },
  {
   "cell_type": "markdown",
   "id": "4a406d4c",
   "metadata": {},
   "source": [
    "Our hypothesis again here was not completely correct. There is a clear peak in average rent cost during the Summer months. Nevertheless, the standard deviation of rent cost during the year is only of $9.52 per day, which represents only 6.26% of the cost for the top month (July)."
   ]
  }
 ],
 "metadata": {
  "kernelspec": {
   "display_name": "Python 3 (ipykernel)",
   "language": "python",
   "name": "python3"
  },
  "language_info": {
   "codemirror_mode": {
    "name": "ipython",
    "version": 3
   },
   "file_extension": ".py",
   "mimetype": "text/x-python",
   "name": "python",
   "nbconvert_exporter": "python",
   "pygments_lexer": "ipython3",
   "version": "3.8.11"
  }
 },
 "nbformat": 4,
 "nbformat_minor": 5
}
